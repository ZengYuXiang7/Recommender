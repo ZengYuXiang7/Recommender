{
 "cells": [
  {
   "cell_type": "code",
   "id": "initial_id",
   "metadata": {
    "collapsed": true,
    "ExecuteTime": {
     "end_time": "2024-06-16T09:57:58.052159Z",
     "start_time": "2024-06-16T09:57:57.785150Z"
    }
   },
   "source": [
    "import numpy as np\n",
    "import pandas as pd\n",
    "import csv\n",
    "import math\n"
   ],
   "outputs": [],
   "execution_count": 1
  },
  {
   "metadata": {
    "ExecuteTime": {
     "end_time": "2024-06-16T10:00:21.296850Z",
     "start_time": "2024-06-16T10:00:16.070259Z"
    }
   },
   "cell_type": "code",
   "source": [
    "# 加载数据\n",
    "movies = pd.read_csv(\"datasets/ml-25m/movies.csv\")\n",
    "links = pd.read_csv(\"datasets/ml-25m/links.csv\")\n",
    "tags = pd.read_csv(\"datasets/ml-25m/tags.csv\")\n",
    "from scipy.sparse import csr_matrix\n",
    "ratings = pd.read_csv(\"datasets/ml-25m/ratings.csv\")\n",
    "# 将电影ID和用户ID转换为连续索引\n",
    "user_ids = ratings['userId'].unique()\n",
    "movie_ids = ratings['movieId'].unique()\n",
    "user_id_map = {id_: idx for idx, id_ in enumerate(user_ids)}\n",
    "movie_id_map = {id_: idx for idx, id_ in enumerate(movie_ids)}\n",
    "ratings['userId'] = ratings['userId'].map(user_id_map)\n",
    "ratings['movieId'] = ratings['movieId'].map(movie_id_map)\n",
    "# 创建用户-电影交互矩阵\n",
    "num_users = len(user_ids)\n",
    "num_movies = len(movie_ids)\n",
    "interaction_matrix = csr_matrix((ratings['rating'], (ratings['userId'], ratings['movieId'])), shape=(num_users, num_movies))\n",
    "print(\"Interaction matrix shape:\", interaction_matrix.shape)\n",
    "\n",
    "# 将矩阵转换为DataFrame\n",
    "interaction_df = pd.DataFrame.sparse.from_spmatrix(interaction_matrix, index=user_ids, columns=movie_ids)"
   ],
   "id": "f75d57322c30c654",
   "outputs": [],
   "execution_count": 7
  },
  {
   "metadata": {
    "ExecuteTime": {
     "end_time": "2024-06-16T13:05:47.925840Z",
     "start_time": "2024-06-16T13:05:47.919269Z"
    }
   },
   "cell_type": "code",
   "source": [
    "import numpy as np\n",
    "\n",
    "def get_top_k_recommendations(user_ratings, k):\n",
    "    # 根据评分生成推荐列表，这里假设评分已经按降序排列\n",
    "    return np.argsort(user_ratings)[::-1][:k]\n",
    "\n",
    "def recall_at_k(recommended_items, relevant_items, k):\n",
    "    recommended_items_at_k = recommended_items[:k]\n",
    "    relevant_items_set = set(relevant_items)\n",
    "    hits = sum(1 for item in recommended_items_at_k if item in relevant_items_set)\n",
    "    return hits / len(relevant_items_set)\n",
    "\n",
    "def dcg_at_k(recommended_items, relevant_items, k):\n",
    "    relevance_scores = [1 if item in relevant_items else 0 for item in recommended_items[:k]]\n",
    "    return sum(score / np.log2(idx + 2) for idx, score in enumerate(relevance_scores))\n",
    "\n",
    "def ndcg_at_k(recommended_items, relevant_items, k):\n",
    "    dcg_max = dcg_at_k(sorted(relevant_items, key=lambda x: 1, reverse=True), relevant_items, k)\n",
    "    if not dcg_max:\n",
    "        return 0.\n",
    "    return dcg_at_k(recommended_items, relevant_items, k) / dcg_max\n",
    "\n",
    "def hit_ratio_at_k(recommended_items, relevant_items, k):\n",
    "    return int(any(item in recommended_items[:k] for item in relevant_items))\n",
    "\n",
    "# Example usage:\n",
    "user_ratings = np.array([4.0, 3.5, 5.0, 2.0, 4.5])\n",
    "# 获取前3个推荐物品的索引\n",
    "recommended_items = get_top_k_recommendations(user_ratings, k=3)\n",
    "relevant_items = [2, 4]  # 用户实际喜欢的物品索引\n",
    "\n",
    "k = 3\n",
    "print(f\"Recall@{k}: {recall_at_k(recommended_items, relevant_items, k)}\")\n",
    "print(f\"NDCG@{k}: {ndcg_at_k(recommended_items, relevant_items, k)}\")\n",
    "print(f\"Hit Ratio@{k}: {hit_ratio_at_k(recommended_items, relevant_items, k)}\")"
   ],
   "id": "ec23765887ac775",
   "outputs": [
    {
     "name": "stdout",
     "output_type": "stream",
     "text": [
      "Recall@3: 1.0\n",
      "NDCG@3: 1.0\n",
      "Hit Ratio@3: 1\n"
     ]
    }
   ],
   "execution_count": 14
  },
  {
   "metadata": {
    "ExecuteTime": {
     "end_time": "2024-06-16T13:06:05.028451Z",
     "start_time": "2024-06-16T13:06:05.016103Z"
    }
   },
   "cell_type": "code",
   "source": [
    "def evaluate_recommendation_system(model, test_data, threshold, k):\n",
    "    recall_scores = []\n",
    "    ndcg_scores = []\n",
    "    hit_ratio_scores = []\n",
    "\n",
    "    for user in test_data:\n",
    "        user_ratings = model.predict(user)  # 根据模型预测用户的评分\n",
    "        recommended_items = get_top_k_recommendations(user_ratings, k)\n",
    "        relevant_items = [item for item, rating in test_data[user] if rating >= threshold]  # 根据评分阈值确定用户喜欢的物品\n",
    "        if not relevant_items:\n",
    "            continue\n",
    "        recall_scores.append(recall_at_k(recommended_items, relevant_items, k))\n",
    "        ndcg_scores.append(ndcg_at_k(recommended_items, relevant_items, k))\n",
    "        hit_ratio_scores.append(hit_ratio_at_k(recommended_items, relevant_items, k))\n",
    "\n",
    "    avg_recall = np.mean(recall_scores)\n",
    "    avg_ndcg = np.mean(ndcg_scores)\n",
    "    avg_hit_ratio = np.mean(hit_ratio_scores)\n",
    "\n",
    "    return {\n",
    "        'Recall@K': avg_recall,\n",
    "        'NDCG@K': avg_ndcg,\n",
    "        'Hit Ratio@K': avg_hit_ratio\n",
    "    }\n",
    "\n",
    "# Example usage:\n",
    "# 模型预测函数需要实现\n",
    "model = ...  # 你的推荐模型\n",
    "test_data = {\n",
    "    'user1': [(1, 4.0), (3, 5.0), (5, 4.5)],  # 测试集中每个用户的物品评分\n",
    "    'user2': [(2, 4.0), (4, 4.5), (6, 5.0)]\n",
    "}\n",
    "threshold = 4.0  # 设定评分阈值\n",
    "k = 3\n",
    "metrics = evaluate_recommendation_system(model, test_data, threshold, k)\n",
    "print(metrics)"
   ],
   "id": "6045d6f43d1975eb",
   "outputs": [
    {
     "ename": "AttributeError",
     "evalue": "'ellipsis' object has no attribute 'predict'",
     "output_type": "error",
     "traceback": [
      "\u001B[0;31m---------------------------------------------------------------------------\u001B[0m",
      "\u001B[0;31mAttributeError\u001B[0m                            Traceback (most recent call last)",
      "\u001B[0;32m<ipython-input-15-8d66c85e1f45>\u001B[0m in \u001B[0;36m<module>\u001B[0;34m\u001B[0m\n\u001B[1;32m     33\u001B[0m \u001B[0mthreshold\u001B[0m \u001B[0;34m=\u001B[0m \u001B[0;36m4.0\u001B[0m  \u001B[0;31m# 设定评分阈值\u001B[0m\u001B[0;34m\u001B[0m\u001B[0;34m\u001B[0m\u001B[0m\n\u001B[1;32m     34\u001B[0m \u001B[0mk\u001B[0m \u001B[0;34m=\u001B[0m \u001B[0;36m3\u001B[0m\u001B[0;34m\u001B[0m\u001B[0;34m\u001B[0m\u001B[0m\n\u001B[0;32m---> 35\u001B[0;31m \u001B[0mmetrics\u001B[0m \u001B[0;34m=\u001B[0m \u001B[0mevaluate_recommendation_system\u001B[0m\u001B[0;34m(\u001B[0m\u001B[0mmodel\u001B[0m\u001B[0;34m,\u001B[0m \u001B[0mtest_data\u001B[0m\u001B[0;34m,\u001B[0m \u001B[0mthreshold\u001B[0m\u001B[0;34m,\u001B[0m \u001B[0mk\u001B[0m\u001B[0;34m)\u001B[0m\u001B[0;34m\u001B[0m\u001B[0;34m\u001B[0m\u001B[0m\n\u001B[0m\u001B[1;32m     36\u001B[0m \u001B[0mprint\u001B[0m\u001B[0;34m(\u001B[0m\u001B[0mmetrics\u001B[0m\u001B[0;34m)\u001B[0m\u001B[0;34m\u001B[0m\u001B[0;34m\u001B[0m\u001B[0m\n",
      "\u001B[0;32m<ipython-input-15-8d66c85e1f45>\u001B[0m in \u001B[0;36mevaluate_recommendation_system\u001B[0;34m(model, test_data, threshold, k)\u001B[0m\n\u001B[1;32m      5\u001B[0m \u001B[0;34m\u001B[0m\u001B[0m\n\u001B[1;32m      6\u001B[0m     \u001B[0;32mfor\u001B[0m \u001B[0muser\u001B[0m \u001B[0;32min\u001B[0m \u001B[0mtest_data\u001B[0m\u001B[0;34m:\u001B[0m\u001B[0;34m\u001B[0m\u001B[0;34m\u001B[0m\u001B[0m\n\u001B[0;32m----> 7\u001B[0;31m         \u001B[0muser_ratings\u001B[0m \u001B[0;34m=\u001B[0m \u001B[0mmodel\u001B[0m\u001B[0;34m.\u001B[0m\u001B[0mpredict\u001B[0m\u001B[0;34m(\u001B[0m\u001B[0muser\u001B[0m\u001B[0;34m)\u001B[0m  \u001B[0;31m# 根据模型预测用户的评分\u001B[0m\u001B[0;34m\u001B[0m\u001B[0;34m\u001B[0m\u001B[0m\n\u001B[0m\u001B[1;32m      8\u001B[0m         \u001B[0mrecommended_items\u001B[0m \u001B[0;34m=\u001B[0m \u001B[0mget_top_k_recommendations\u001B[0m\u001B[0;34m(\u001B[0m\u001B[0muser_ratings\u001B[0m\u001B[0;34m,\u001B[0m \u001B[0mk\u001B[0m\u001B[0;34m)\u001B[0m\u001B[0;34m\u001B[0m\u001B[0;34m\u001B[0m\u001B[0m\n\u001B[1;32m      9\u001B[0m         \u001B[0mrelevant_items\u001B[0m \u001B[0;34m=\u001B[0m \u001B[0;34m[\u001B[0m\u001B[0mitem\u001B[0m \u001B[0;32mfor\u001B[0m \u001B[0mitem\u001B[0m\u001B[0;34m,\u001B[0m \u001B[0mrating\u001B[0m \u001B[0;32min\u001B[0m \u001B[0mtest_data\u001B[0m\u001B[0;34m[\u001B[0m\u001B[0muser\u001B[0m\u001B[0;34m]\u001B[0m \u001B[0;32mif\u001B[0m \u001B[0mrating\u001B[0m \u001B[0;34m>=\u001B[0m \u001B[0mthreshold\u001B[0m\u001B[0;34m]\u001B[0m  \u001B[0;31m# 根据评分阈值确定用户喜欢的物品\u001B[0m\u001B[0;34m\u001B[0m\u001B[0;34m\u001B[0m\u001B[0m\n",
      "\u001B[0;31mAttributeError\u001B[0m: 'ellipsis' object has no attribute 'predict'"
     ]
    }
   ],
   "execution_count": 15
  },
  {
   "metadata": {},
   "cell_type": "code",
   "outputs": [],
   "execution_count": null,
   "source": "",
   "id": "8648f5ceccb1d992"
  }
 ],
 "metadata": {
  "kernelspec": {
   "display_name": "Python 3",
   "language": "python",
   "name": "python3"
  },
  "language_info": {
   "codemirror_mode": {
    "name": "ipython",
    "version": 2
   },
   "file_extension": ".py",
   "mimetype": "text/x-python",
   "name": "python",
   "nbconvert_exporter": "python",
   "pygments_lexer": "ipython2",
   "version": "2.7.6"
  }
 },
 "nbformat": 4,
 "nbformat_minor": 5
}
