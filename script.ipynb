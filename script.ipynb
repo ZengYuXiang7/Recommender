{
 "cells": [
  {
   "cell_type": "code",
   "id": "initial_id",
   "metadata": {
    "collapsed": true,
    "ExecuteTime": {
     "end_time": "2024-06-17T12:32:14.514128Z",
     "start_time": "2024-06-17T12:32:14.313753Z"
    }
   },
   "source": [
    "import numpy as np\n",
    "import pandas as pd\n",
    "import csv\n",
    "import math\n"
   ],
   "outputs": [],
   "execution_count": 1
  },
  {
   "metadata": {
    "ExecuteTime": {
     "end_time": "2024-06-17T12:32:14.516953Z",
     "start_time": "2024-06-17T12:32:14.515556Z"
    }
   },
   "cell_type": "code",
   "source": "",
   "id": "f75d57322c30c654",
   "outputs": [],
   "execution_count": 1
  },
  {
   "metadata": {
    "ExecuteTime": {
     "end_time": "2024-06-17T12:32:14.523788Z",
     "start_time": "2024-06-17T12:32:14.518640Z"
    }
   },
   "cell_type": "code",
   "source": [
    "ratings = np.random.rand(10, 1)\n",
    "ratings"
   ],
   "id": "746d8b5867ab1ccb",
   "outputs": [
    {
     "data": {
      "text/plain": [
       "array([[0.56818966],\n",
       "       [0.04751378],\n",
       "       [0.4727467 ],\n",
       "       [0.92182323],\n",
       "       [0.62708224],\n",
       "       [0.88296485],\n",
       "       [0.50020001],\n",
       "       [0.84162086],\n",
       "       [0.05875582],\n",
       "       [0.1517881 ]])"
      ]
     },
     "execution_count": 2,
     "metadata": {},
     "output_type": "execute_result"
    }
   ],
   "execution_count": 2
  },
  {
   "metadata": {
    "ExecuteTime": {
     "end_time": "2024-06-17T12:32:14.527005Z",
     "start_time": "2024-06-17T12:32:14.525449Z"
    }
   },
   "cell_type": "code",
   "source": "ITEM_NUM = 10",
   "id": "5fcd9f9863b402ca",
   "outputs": [],
   "execution_count": 3
  },
  {
   "metadata": {
    "ExecuteTime": {
     "end_time": "2024-06-17T12:32:14.529851Z",
     "start_time": "2024-06-17T12:32:14.527961Z"
    }
   },
   "cell_type": "code",
   "source": "all_items = set(range(ITEM_NUM))",
   "id": "ec23765887ac775",
   "outputs": [],
   "execution_count": 4
  },
  {
   "metadata": {
    "ExecuteTime": {
     "end_time": "2024-06-17T12:32:14.532808Z",
     "start_time": "2024-06-17T12:32:14.531027Z"
    }
   },
   "cell_type": "code",
   "source": "training_items = [4, 3, 6, 9]",
   "id": "7ed7434f79ed7c78",
   "outputs": [],
   "execution_count": 5
  },
  {
   "metadata": {
    "ExecuteTime": {
     "end_time": "2024-06-17T12:32:14.536146Z",
     "start_time": "2024-06-17T12:32:14.533747Z"
    }
   },
   "cell_type": "code",
   "source": [
    "test_items = list(all_items - set(training_items))\n",
    "test_items"
   ],
   "id": "6045d6f43d1975eb",
   "outputs": [
    {
     "data": {
      "text/plain": [
       "[0, 1, 2, 5, 7, 8]"
      ]
     },
     "execution_count": 6,
     "metadata": {},
     "output_type": "execute_result"
    }
   ],
   "execution_count": 6
  },
  {
   "metadata": {
    "ExecuteTime": {
     "end_time": "2024-06-17T12:45:33.746549Z",
     "start_time": "2024-06-17T12:45:33.725666Z"
    }
   },
   "cell_type": "code",
   "source": [
    "import numpy as np\n",
    "import heapq\n",
    "import torch\n",
    "from torch.utils.data import DataLoader, Dataset\n",
    "\n",
    "# Functions to compute metrics\n",
    "def ranklist_by_sorted(user_pos_test, test_items, rating, Ks):\n",
    "    item_score = {i: rating[i] for i in test_items}\n",
    "    K_max = max(Ks)\n",
    "    K_max_item_score = heapq.nlargest(K_max, item_score, key=item_score.get)\n",
    "\n",
    "    r = [1 if i in user_pos_test else 0 for i in K_max_item_score]\n",
    "    auc = get_auc(item_score, user_pos_test)\n",
    "    return r, auc\n",
    "\n",
    "def get_auc(item_score, user_pos_test):\n",
    "    item_score = sorted(item_score.items(), key=lambda kv: kv[1], reverse=True)\n",
    "    item_sort = [x[0] for x in item_score]\n",
    "    posterior = [x[1] for x in item_score]\n",
    "\n",
    "    r = [1 if i in user_pos_test else 0 for i in item_sort]\n",
    "    auc = AUC(ground_truth=r, prediction=posterior)\n",
    "    return auc\n",
    "\n",
    "def precision_at_k(r, k):\n",
    "    r = np.asarray(r)[:k]\n",
    "    return np.mean(r)\n",
    "\n",
    "def recall_at_k(r, k, all_pos_num):\n",
    "    r = np.asarray(r)[:k]\n",
    "    return np.sum(r) / all_pos_num\n",
    "\n",
    "def ndcg_at_k(r, k):\n",
    "    r = np.asarray(r)[:k]\n",
    "    if r.size == 0:\n",
    "        return 0.\n",
    "    return np.sum(r / np.log2(np.arange(2, r.size + 2)))\n",
    "\n",
    "def hit_at_k(r, k):\n",
    "    r = np.asarray(r)[:k]\n",
    "    return 1.0 if np.sum(r) > 0 else 0.0\n",
    "\n",
    "def AUC(ground_truth, prediction):\n",
    "    from sklearn.metrics import roc_auc_score\n",
    "    return roc_auc_score(ground_truth, prediction)\n",
    "\n",
    "# Custom Dataset for DataLoader\n",
    "class UserDataset(Dataset):\n",
    "    def __init__(self, num_users, item_num):\n",
    "        self.num_users = num_users\n",
    "        self.item_num = item_num\n",
    "        self.data = self._generate_data()\n",
    "\n",
    "    def _generate_data(self):\n",
    "        data = []\n",
    "        for _ in range(self.num_users):\n",
    "            preds = np.random.uniform(0.8, 1.0, self.item_num)\n",
    "            reals = np.random.choice([0, 1], size=self.item_num)\n",
    "            user_pos_test = [i for i, x in enumerate(reals) if x == 1]\n",
    "            data.append((torch.tensor(preds, dtype=torch.float32), torch.tensor(reals, dtype=torch.int32), user_pos_test))\n",
    "        return data\n",
    "\n",
    "    def __len__(self):\n",
    "        return len(self.data)\n",
    "\n",
    "    def __getitem__(self, idx):\n",
    "        return self.data[idx]\n",
    "\n",
    "# Function to pad user_pos_test lists to the same length\n",
    "def pad_user_pos_test(batch):\n",
    "    preds_batch, reals_batch, user_pos_test_batch = zip(*batch)\n",
    "    max_len = max(len(ut) for ut in user_pos_test_batch)\n",
    "    padded_user_pos_test_batch = []\n",
    "    for user_pos_test in user_pos_test_batch:\n",
    "        padded = user_pos_test + [-1] * (max_len - len(user_pos_test))  # use -1 as padding\n",
    "        padded_user_pos_test_batch.append(padded)\n",
    "    return torch.stack(preds_batch), torch.stack(reals_batch), torch.tensor(padded_user_pos_test_batch)\n",
    "\n",
    "# Parameters\n",
    "num_users = 5\n",
    "batch_size = 3\n",
    "Ks = [5, 10, 15]\n",
    "ITEM_NUM = 10\n",
    "all_items = set(range(ITEM_NUM))\n",
    "training_items = [4, 3, 6, 9]\n",
    "test_items = list(all_items - set(training_items))\n",
    "\n",
    "# Dataset and DataLoader\n",
    "dataset = UserDataset(num_users, ITEM_NUM)\n",
    "user_loader = DataLoader(dataset, batch_size=batch_size, shuffle=True, collate_fn=pad_user_pos_test)\n",
    "\n",
    "# Result dictionary\n",
    "result = {'precision': np.zeros(len(Ks)), 'recall': np.zeros(len(Ks)), 'ndcg': np.zeros(len(Ks)), 'hit_ratio': np.zeros(len(Ks)), 'auc': 0.}\n",
    "all_precision, all_recall, all_ndcg, all_hit_ratio, all_auc = [], [], [], [], []\n",
    "\n",
    "# Processing batches\n",
    "for batch in user_loader:\n",
    "    preds_batch, reals_batch, user_pos_test_batch = batch\n",
    "    batch_precision, batch_recall, batch_ndcg, batch_hit_ratio, batch_auc = [], [], [], [], []\n",
    "\n",
    "    for i in range(len(preds_batch)):\n",
    "        preds = preds_batch[i].numpy()\n",
    "        reals = reals_batch[i].numpy()\n",
    "        user_pos_test = [x for x in user_pos_test_batch[i].numpy() if x != -1]  # remove padding\n",
    "\n",
    "        r, auc = ranklist_by_sorted(user_pos_test, test_items, preds, Ks)\n",
    "\n",
    "        precision, recall, ndcg, hit_ratio = [], [], [], []\n",
    "        for K in Ks:\n",
    "            precision.append(precision_at_k(r, K))\n",
    "            recall.append(recall_at_k(r, K, len(user_pos_test)))\n",
    "            ndcg.append(ndcg_at_k(r, K))\n",
    "            hit_ratio.append(hit_at_k(r, K))\n",
    "\n",
    "        batch_precision.append(precision)\n",
    "        batch_recall.append(recall)\n",
    "        batch_ndcg.append(ndcg)\n",
    "        batch_hit_ratio.append(hit_ratio)\n",
    "        batch_auc.append(auc)\n",
    "\n",
    "    all_precision.extend(batch_precision)\n",
    "    all_recall.extend(batch_recall)\n",
    "    all_ndcg.extend(batch_ndcg)\n",
    "    all_hit_ratio.extend(batch_hit_ratio)\n",
    "    all_auc.extend(batch_auc)\n",
    "\n",
    "# Calculate mean values\n",
    "result['precision'] = np.mean(all_precision, axis=0)\n",
    "result['recall'] = np.mean(all_recall, axis=0)\n",
    "result['ndcg'] = np.mean(all_ndcg, axis=0)\n",
    "result['hit_ratio'] = np.mean(all_hit_ratio, axis=0)\n",
    "result['auc'] = np.mean(all_auc)\n",
    "\n",
    "result"
   ],
   "id": "8648f5ceccb1d992",
   "outputs": [
    {
     "data": {
      "text/plain": [
       "{'precision': array([0.48      , 0.53333333, 0.53333333]),\n",
       " 'recall': array([0.47      , 0.63333333, 0.63333333]),\n",
       " 'ndcg': array([1.49680485, 1.7817706 , 1.7817706 ]),\n",
       " 'hit_ratio': array([1., 1., 1.]),\n",
       " 'auc': 0.45}"
      ]
     },
     "execution_count": 47,
     "metadata": {},
     "output_type": "execute_result"
    }
   ],
   "execution_count": 47
  },
  {
   "metadata": {
    "ExecuteTime": {
     "end_time": "2024-06-17T12:32:14.923539Z",
     "start_time": "2024-06-17T12:32:14.921006Z"
    }
   },
   "cell_type": "code",
   "source": "r, auc ",
   "id": "e3823799a0395178",
   "outputs": [
    {
     "data": {
      "text/plain": [
       "([1, 0, 0, 1, 0, 0], 0.75)"
      ]
     },
     "execution_count": 8,
     "metadata": {},
     "output_type": "execute_result"
    }
   ],
   "execution_count": 8
  },
  {
   "metadata": {
    "ExecuteTime": {
     "end_time": "2024-06-17T12:32:14.925592Z",
     "start_time": "2024-06-17T12:32:14.924434Z"
    }
   },
   "cell_type": "code",
   "source": "",
   "id": "ed9cd804ddfc5aec",
   "outputs": [],
   "execution_count": 8
  },
  {
   "metadata": {
    "ExecuteTime": {
     "end_time": "2024-06-17T12:32:14.927438Z",
     "start_time": "2024-06-17T12:32:14.926312Z"
    }
   },
   "cell_type": "code",
   "source": "",
   "id": "fb83435f7d688291",
   "outputs": [],
   "execution_count": 8
  }
 ],
 "metadata": {
  "kernelspec": {
   "display_name": "Python 3",
   "language": "python",
   "name": "python3"
  },
  "language_info": {
   "codemirror_mode": {
    "name": "ipython",
    "version": 2
   },
   "file_extension": ".py",
   "mimetype": "text/x-python",
   "name": "python",
   "nbconvert_exporter": "python",
   "pygments_lexer": "ipython2",
   "version": "2.7.6"
  }
 },
 "nbformat": 4,
 "nbformat_minor": 5
}
