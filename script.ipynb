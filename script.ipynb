{
 "cells": [
  {
   "cell_type": "code",
   "id": "initial_id",
   "metadata": {
    "collapsed": true,
    "ExecuteTime": {
     "end_time": "2024-06-16T09:57:58.052159Z",
     "start_time": "2024-06-16T09:57:57.785150Z"
    }
   },
   "source": [
    "import numpy as np\n",
    "import pandas as pd\n",
    "import csv\n",
    "import math\n"
   ],
   "outputs": [],
   "execution_count": 1
  },
  {
   "metadata": {
    "ExecuteTime": {
     "end_time": "2024-06-16T10:00:21.296850Z",
     "start_time": "2024-06-16T10:00:16.070259Z"
    }
   },
   "cell_type": "code",
   "source": [
    "# 加载数据\n",
    "movies = pd.read_csv(\"datasets/ml-25m/movies.csv\")\n",
    "links = pd.read_csv(\"datasets/ml-25m/links.csv\")\n",
    "tags = pd.read_csv(\"datasets/ml-25m/tags.csv\")\n",
    "from scipy.sparse import csr_matrix\n",
    "ratings = pd.read_csv(\"datasets/ml-25m/ratings.csv\")\n",
    "# 将电影ID和用户ID转换为连续索引\n",
    "user_ids = ratings['userId'].unique()\n",
    "movie_ids = ratings['movieId'].unique()\n",
    "user_id_map = {id_: idx for idx, id_ in enumerate(user_ids)}\n",
    "movie_id_map = {id_: idx for idx, id_ in enumerate(movie_ids)}\n",
    "ratings['userId'] = ratings['userId'].map(user_id_map)\n",
    "ratings['movieId'] = ratings['movieId'].map(movie_id_map)\n",
    "# 创建用户-电影交互矩阵\n",
    "num_users = len(user_ids)\n",
    "num_movies = len(movie_ids)\n",
    "interaction_matrix = csr_matrix((ratings['rating'], (ratings['userId'], ratings['movieId'])), shape=(num_users, num_movies))\n",
    "print(\"Interaction matrix shape:\", interaction_matrix.shape)\n",
    "\n",
    "# 将矩阵转换为DataFrame\n",
    "interaction_df = pd.DataFrame.sparse.from_spmatrix(interaction_matrix, index=user_ids, columns=movie_ids)"
   ],
   "id": "f75d57322c30c654",
   "outputs": [],
   "execution_count": 7
  },
  {
   "metadata": {
    "ExecuteTime": {
     "end_time": "2024-06-16T10:00:21.922770Z",
     "start_time": "2024-06-16T10:00:21.914028Z"
    }
   },
   "cell_type": "code",
   "source": "ratings",
   "id": "ec23765887ac775",
   "outputs": [
    {
     "data": {
      "text/plain": [
       "          userId  movieId  rating   timestamp\n",
       "0              1      296     5.0  1147880044\n",
       "1              1      306     3.5  1147868817\n",
       "2              1      307     5.0  1147868828\n",
       "3              1      665     5.0  1147878820\n",
       "4              1      899     3.5  1147868510\n",
       "...          ...      ...     ...         ...\n",
       "25000090  162541    50872     4.5  1240953372\n",
       "25000091  162541    55768     2.5  1240951998\n",
       "25000092  162541    56176     2.0  1240950697\n",
       "25000093  162541    58559     4.0  1240953434\n",
       "25000094  162541    63876     5.0  1240952515\n",
       "\n",
       "[25000095 rows x 4 columns]"
      ],
      "text/html": [
       "<div>\n",
       "<style scoped>\n",
       "    .dataframe tbody tr th:only-of-type {\n",
       "        vertical-align: middle;\n",
       "    }\n",
       "\n",
       "    .dataframe tbody tr th {\n",
       "        vertical-align: top;\n",
       "    }\n",
       "\n",
       "    .dataframe thead th {\n",
       "        text-align: right;\n",
       "    }\n",
       "</style>\n",
       "<table border=\"1\" class=\"dataframe\">\n",
       "  <thead>\n",
       "    <tr style=\"text-align: right;\">\n",
       "      <th></th>\n",
       "      <th>userId</th>\n",
       "      <th>movieId</th>\n",
       "      <th>rating</th>\n",
       "      <th>timestamp</th>\n",
       "    </tr>\n",
       "  </thead>\n",
       "  <tbody>\n",
       "    <tr>\n",
       "      <th>0</th>\n",
       "      <td>1</td>\n",
       "      <td>296</td>\n",
       "      <td>5.0</td>\n",
       "      <td>1147880044</td>\n",
       "    </tr>\n",
       "    <tr>\n",
       "      <th>1</th>\n",
       "      <td>1</td>\n",
       "      <td>306</td>\n",
       "      <td>3.5</td>\n",
       "      <td>1147868817</td>\n",
       "    </tr>\n",
       "    <tr>\n",
       "      <th>2</th>\n",
       "      <td>1</td>\n",
       "      <td>307</td>\n",
       "      <td>5.0</td>\n",
       "      <td>1147868828</td>\n",
       "    </tr>\n",
       "    <tr>\n",
       "      <th>3</th>\n",
       "      <td>1</td>\n",
       "      <td>665</td>\n",
       "      <td>5.0</td>\n",
       "      <td>1147878820</td>\n",
       "    </tr>\n",
       "    <tr>\n",
       "      <th>4</th>\n",
       "      <td>1</td>\n",
       "      <td>899</td>\n",
       "      <td>3.5</td>\n",
       "      <td>1147868510</td>\n",
       "    </tr>\n",
       "    <tr>\n",
       "      <th>...</th>\n",
       "      <td>...</td>\n",
       "      <td>...</td>\n",
       "      <td>...</td>\n",
       "      <td>...</td>\n",
       "    </tr>\n",
       "    <tr>\n",
       "      <th>25000090</th>\n",
       "      <td>162541</td>\n",
       "      <td>50872</td>\n",
       "      <td>4.5</td>\n",
       "      <td>1240953372</td>\n",
       "    </tr>\n",
       "    <tr>\n",
       "      <th>25000091</th>\n",
       "      <td>162541</td>\n",
       "      <td>55768</td>\n",
       "      <td>2.5</td>\n",
       "      <td>1240951998</td>\n",
       "    </tr>\n",
       "    <tr>\n",
       "      <th>25000092</th>\n",
       "      <td>162541</td>\n",
       "      <td>56176</td>\n",
       "      <td>2.0</td>\n",
       "      <td>1240950697</td>\n",
       "    </tr>\n",
       "    <tr>\n",
       "      <th>25000093</th>\n",
       "      <td>162541</td>\n",
       "      <td>58559</td>\n",
       "      <td>4.0</td>\n",
       "      <td>1240953434</td>\n",
       "    </tr>\n",
       "    <tr>\n",
       "      <th>25000094</th>\n",
       "      <td>162541</td>\n",
       "      <td>63876</td>\n",
       "      <td>5.0</td>\n",
       "      <td>1240952515</td>\n",
       "    </tr>\n",
       "  </tbody>\n",
       "</table>\n",
       "<p>25000095 rows × 4 columns</p>\n",
       "</div>"
      ]
     },
     "execution_count": 8,
     "metadata": {},
     "output_type": "execute_result"
    }
   ],
   "execution_count": 8
  },
  {
   "metadata": {
    "ExecuteTime": {
     "end_time": "2024-06-16T10:00:40.977853Z",
     "start_time": "2024-06-16T10:00:38.781494Z"
    }
   },
   "cell_type": "code",
   "source": "",
   "id": "6045d6f43d1975eb",
   "outputs": [
    {
     "name": "stdout",
     "output_type": "stream",
     "text": [
      "Interaction matrix shape: (162541, 59047)\n"
     ]
    }
   ],
   "execution_count": 10
  },
  {
   "metadata": {},
   "cell_type": "code",
   "outputs": [],
   "execution_count": null,
   "source": "",
   "id": "8648f5ceccb1d992"
  }
 ],
 "metadata": {
  "kernelspec": {
   "display_name": "Python 3",
   "language": "python",
   "name": "python3"
  },
  "language_info": {
   "codemirror_mode": {
    "name": "ipython",
    "version": 2
   },
   "file_extension": ".py",
   "mimetype": "text/x-python",
   "name": "python",
   "nbconvert_exporter": "python",
   "pygments_lexer": "ipython2",
   "version": "2.7.6"
  }
 },
 "nbformat": 4,
 "nbformat_minor": 5
}
